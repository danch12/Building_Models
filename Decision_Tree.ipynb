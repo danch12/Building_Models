{
 "cells": [
  {
   "cell_type": "code",
   "execution_count": 1,
   "metadata": {
    "ExecuteTime": {
     "end_time": "2020-01-18T11:52:34.987675Z",
     "start_time": "2020-01-18T11:52:33.530168Z"
    }
   },
   "outputs": [],
   "source": [
    "from scipy import stats\n",
    "import numpy as np"
   ]
  },
  {
   "cell_type": "markdown",
   "metadata": {},
   "source": [
    "## Decision Tree"
   ]
  },
  {
   "cell_type": "code",
   "execution_count": 6,
   "metadata": {
    "ExecuteTime": {
     "end_time": "2020-01-18T11:53:54.084489Z",
     "start_time": "2020-01-18T11:53:54.067039Z"
    }
   },
   "outputs": [],
   "source": [
    "class decision_tree():\n",
    "    def __init__(self):\n",
    "        self.tree = None\n",
    "        \n",
    "        \n",
    "        \n",
    "    def gini(self, target):\n",
    "        vals, counts = np.unique(target, return_counts=True)\n",
    "        gini_parts = []\n",
    "        for c in counts:\n",
    "            gini_parts.append((-(c / np.sum(counts))**2))\n",
    "        return sum(gini_parts)\n",
    "\n",
    "    def find_impurities(self, data, feature, target):\n",
    "\n",
    "        #calculate parent gini\n",
    "        start_gini = self.gini(target)\n",
    "        \n",
    "        #get unique values and how many\n",
    "        values, counts = np.unique(data[:, feature], return_counts=True)\n",
    "        #print('target',len(target))\n",
    "        #print('data',len(data))\n",
    "        \n",
    "        #weight the child leaves by how many values in the leaf\n",
    "        weighted_gini_impurity_list=[]\n",
    "        for ind in range(len(values)):\n",
    "            weight = counts[ind]/np.sum(counts)\n",
    "            gini = self.gini(target[np.where(data[:,feature]==values[ind])])\n",
    "            weighted_gini = weight* gini\n",
    "            weighted_gini_impurity_list.append(weighted_gini)\n",
    "        \n",
    "        gain = start_gini - np.sum(weighted_gini_impurity_list)\n",
    "        \n",
    "        \n",
    "        return gain\n",
    "        \n",
    "    def build_tree(self, new_data, orig_data, features,new_target,orig_target,parent_class=None):\n",
    "        \n",
    "        #need to deal with outlier cases eg no samples in a node\n",
    "        # also need to stop building trees when there is only one class \n",
    "        \n",
    "        #if only one class then return it\n",
    "        if len(np.unique(new_target))<=1:\n",
    "            return np.unique(new_target)[0]\n",
    "        \n",
    "        #if no data and the parent class is none then break because no data\n",
    "        elif len(new_data)==0 and parent_class==None:\n",
    "            print('please input data')\n",
    "        \n",
    "        #if no data in leaf and we have a value for parent class we will just use that value\n",
    "        elif len(new_data)==0:\n",
    "            return parent_class\n",
    "        \n",
    "        else:\n",
    "            parent_class = np.argmax(np.unique(new_target,return_counts=True)[1])\n",
    "            \n",
    "            #get all of the feature impurities\n",
    "            impurities = [self.find_impurities(new_data, f,new_target) for f in features]\n",
    "            best_gain = features[np.argmax(impurities)]\n",
    "            \n",
    "            \n",
    "            #build tree\n",
    "            tree ={best_gain:{}}\n",
    "            \n",
    "            #remove feature we just used\n",
    "            features = [f for f in features if f != best_gain]\n",
    "            \n",
    "            for value in np.unique(new_data[:,best_gain]):\n",
    "                \n",
    "                child_data = new_data[np.where(new_data[:,best_gain]==value)]\n",
    "                child_target = new_target[np.where(new_data[:,best_gain]==value)]\n",
    "                \n",
    "                \n",
    "                child_tree = self.build_tree(child_data,orig_data,features,child_target,orig_target, parent_class)\n",
    "                \n",
    "                tree[best_gain][value]=child_tree\n",
    "                \n",
    "            self.tree=tree\n",
    "            return tree\n",
    "    \n",
    "    \n",
    "    def predict(self,sample,fall_back):\n",
    "        for feature in range(len(sample[0])):\n",
    "            if feature in list(self.tree.keys()):\n",
    "                try:\n",
    "                \n",
    "                    result =self.tree[feature][sample[0][feature]]\n",
    "                \n",
    "                \n",
    "                except:\n",
    "                    return fall_back\n",
    "        \n",
    "                result = self.tree[feature][sample[0][feature]]    \n",
    "            \n",
    "            if type(result)== dict:\n",
    "                return re(sample,result)\n",
    "            \n",
    "            else:\n",
    "                return result"
   ]
  },
  {
   "cell_type": "code",
   "execution_count": 8,
   "metadata": {
    "ExecuteTime": {
     "end_time": "2020-01-18T11:53:59.457643Z",
     "start_time": "2020-01-18T11:53:59.434833Z"
    }
   },
   "outputs": [
    {
     "data": {
      "text/plain": [
       "{2: {0: 1, 1: {3: {0: {1: {0: 1, 1: 0}}, 1: {1: {0: 0, 1: 1}}}}}}"
      ]
     },
     "execution_count": 8,
     "metadata": {},
     "output_type": "execute_result"
    }
   ],
   "source": [
    "example_data= np.array([[1,1,0,1],#1\n",
    "                        [1,0,1,1],#0\n",
    "                        [0,1,1,1],#1\n",
    "                        [0,1,1,0],\n",
    "                       [0,1,1,0],\n",
    "                       [1,1,1,1],\n",
    "                       [0,1,0,0],\n",
    "                       [0,0,1,0]])\n",
    "                    \n",
    "\n",
    "target_data = np.array([1,0,1,0,0,1,1,1,0,0,0,0])\n",
    "\n",
    "d= decision_tree()\n",
    "tree=d.build_tree(example_data,example_data,[0,1,2,3],target_data,target_data)\n",
    "tree"
   ]
  },
  {
   "cell_type": "code",
   "execution_count": null,
   "metadata": {},
   "outputs": [],
   "source": []
  }
 ],
 "metadata": {
  "kernelspec": {
   "display_name": "Python 3",
   "language": "python",
   "name": "python3"
  },
  "language_info": {
   "codemirror_mode": {
    "name": "ipython",
    "version": 3
   },
   "file_extension": ".py",
   "mimetype": "text/x-python",
   "name": "python",
   "nbconvert_exporter": "python",
   "pygments_lexer": "ipython3",
   "version": "3.7.4"
  },
  "toc": {
   "base_numbering": 1,
   "nav_menu": {},
   "number_sections": true,
   "sideBar": true,
   "skip_h1_title": false,
   "title_cell": "Table of Contents",
   "title_sidebar": "Contents",
   "toc_cell": false,
   "toc_position": {},
   "toc_section_display": true,
   "toc_window_display": false
  }
 },
 "nbformat": 4,
 "nbformat_minor": 2
}
